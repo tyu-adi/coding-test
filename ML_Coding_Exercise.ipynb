{
 "cells": [
  {
   "cell_type": "markdown",
   "metadata": {
    "id": "fV9Em3fl2Kzh"
   },
   "source": [
    "# ML for Control System Classification\n",
    "\n",
    "## Introduction\n",
    "\n",
    "The system identification problem is one of key problems for any systems with feedback. In this exercise, we are going investigate how machine learning (ML) can be used to solve such problems.\n",
    "\n",
    "We are going to use power conversion as a real-world example. One of the most important metrics of any power management system is its **stability**. For example, in your laptop there is a power management IC (PMIC) that takes the 5 Volt from the wall charger and output a constant voltage for the CPU (usually 1.0-1.3 V). This voltage that goes into the CPU must be as stable as possible (high stability), under all kinds of processing tasks.\n",
    "\n",
    "The figure below illustrates the problem. When there is any variation happening at the input side of the PMIC (such as a step), we look at the **output voltage waveform** for evaluating its stability before it goes into the CPU.\n",
    "\n",
    "<img src=\"coding_exercise.jpg\" width=\"500\">\n",
    "\n",
    "PMIC engineers have complicated methods to measure such output voltage waveforms and characterize them as *stable* or *unstable*. We want to see if ML can make their life easier!\n",
    "\n",
    "In this exercise, we will use a dataset that was collected on ADI's high performance digital PMICs, called the [µModules](https://www.analog.com/en/product-category/umodule-regulators.html). The goal is to develop a ML model that can classify whether a output voltage waveform is stable or not, so that we won't burn the CPU!\n",
    "\n",
    "The datasets consist of pairs of output voltage waveforms and their labels:\n",
    "- *voltage*: has shape (N, 8192), where N is the number of measured waveforms, and 8192 is the length of each waveform, as they are 1D time series. `voltage` is the output voltage waveform shown above.\n",
    "- *label*: has shape (N,). `label` ∈ {0, 1}, where 0 means unstable and 1 means stable.\n",
    "- *vout*: has shape (N,). `vout` is the \"steady-state\" values of each output voltage waveforms.\n",
    "\n",
    "## Completing the Coding Exercise\n",
    "\n",
    "You will be asked to go through the following 5 sub-problems. And we provide some guidance on what you should do in each of the sub-problem, as well as some skeleton code to get you started.\n",
    "\n",
    "You can insert your code in the corresponding sections with the best coding practice that you can follow (format, comment, etc). And then you should execute those cells to get the result. You can add any visualization to help illustrate your workflow and observation. The completed notebook should be clear and readable as a report.\n",
    "\n",
    "After you complete all the sub-problems, you should save the notebook and then download it with\n",
    "\n",
    "```\n",
    "File -> Download -> Download .ipynb\n",
    "```\n",
    "\n",
    "Please submit the downloaded `.ipynb` file via email for grading.\n",
    "\n",
    "**Note I**: You can use any ML algorithms and framework. If you choose to work with neural networks, it's recommended to enable GPU or TPU in Colab before starting the exercise. In Colab, simply select:\n",
    "\n",
    "```\n",
    "Runtime -> Change Runtime Type -> GPU\n",
    "```\n",
    "\n",
    "**Note II**: This exercise is open-ended. There is no right answer, neither it is a \"competition\" on the final accuracy. Instead, your submission will be scored based on your practical approaches to an ML problem, thinking process, and coding style."
   ]
  },
  {
   "cell_type": "markdown",
   "metadata": {
    "id": "1P9wgpsnwQIR"
   },
   "source": [
    "First, download the training and test dataset using the token provided to you. Please reach out to us if you met any problems downloading the datasets.\n"
   ]
  },
  {
   "cell_type": "code",
   "execution_count": null,
   "metadata": {
    "id": "PAruWYx5n0Gh"
   },
   "outputs": [],
   "source": [
    "# token = <PUT THE TOKEN SENT TO YOU VIA EMAIL>\n",
    "\n",
    "data_train_url = 'https://analoggarage.blob.core.windows.net/coding-test/data/data_train.pkl'\n",
    "data_test_url = 'https://analoggarage.blob.core.windows.net/coding-test/data/data_test.pkl'\n",
    "\n",
    "!wget -O data_train.pkl \"$data_train_url$token\"\n",
    "!wget -O data_test.pkl \"$data_test_url$token\""
   ]
  },
  {
   "attachments": {},
   "cell_type": "markdown",
   "metadata": {
    "id": "s8sRXNQP4OCx"
   },
   "source": [
    "## Problem 1. Load Dataset\n",
    "\n",
    "In this section, we will provide you the example to load the test dataset and visualize some of the data. Please investigate the data and make some visualizations of the data. And make comments on any of your observations below:\n",
    "\n",
    "**\\< Write your observations here \\>**"
   ]
  },
  {
   "cell_type": "code",
   "execution_count": null,
   "metadata": {
    "id": "BMpN9QAHvZU7"
   },
   "outputs": [],
   "source": [
    "import pickle\n",
    "import matplotlib.pyplot as plt\n",
    "import numpy as np\n",
    "\n",
    "%matplotlib inline"
   ]
  },
  {
   "cell_type": "code",
   "execution_count": null,
   "metadata": {
    "colab": {
     "base_uri": "https://localhost:8080/"
    },
    "id": "dwUWXpJtvbxt",
    "outputId": "4ea4948e-885d-435f-d4fa-6ece029e1c4b"
   },
   "outputs": [],
   "source": [
    "# Load data\n",
    "#   loaded data are dicts with keys: [\"voltage\", \"label\", \"vout\"] (see above for detail)\n",
    "\n",
    "<Load Datasets>"
   ]
  },
  {
   "cell_type": "markdown",
   "metadata": {
    "id": "PIS23iwg7kmb"
   },
   "source": [
    "## Problem 2. Prepare Dataset\n",
    "\n",
    "In this section, let's preprocess and prepare the dataset for your ML model.\n",
    "\n",
    "- By inspection, you may have noticed that `vout` is different from the voltage waveforms. `vout` is the mean voltage before and after the dynamic behaviors happen. Substract `vout` from `voltage` in training and test data.\n",
    "\n",
    "- The voltage waveforms are quite long with `L = 8192`, because it's oversampled during measurement. We can downsample the data, say by 16 times (or more). You can take a downsampling technique of your choice. For example, you can use `scipy.signal.decimate`.\n",
    "\n",
    "- [Optional] You can add any other preprocessing techniques that you see fit before building a model. Please explain what you did.\n",
    "\n",
    "- Lastly, prepare the dataset/dataloader so that it's compatible with the ML framework of your choice.\n"
   ]
  },
  {
   "cell_type": "code",
   "execution_count": null,
   "metadata": {
    "id": "Y5dQjbSqTb2y"
   },
   "outputs": [],
   "source": [
    "def preprocess(data:dict):\n",
    "    # Substract the steady-state voltage\n",
    "    # Downsampling by 16\n",
    "    # And any other preprocessing steps that you want to try\n",
    "    <WRITE YOUR OWN CODE HERE>\n",
    "\n",
    "# Create data loader for training and testing\n",
    "\n",
    "dl_train = <YOUR TRAINING DATA LOADER>\n",
    "dl_test = <YOUR TEST DATA LOADER>"
   ]
  },
  {
   "cell_type": "code",
   "execution_count": null,
   "metadata": {
    "id": "U64dGs4ZuxSx"
   },
   "outputs": [],
   "source": [
    "<Plot some test cases after preprocessing>"
   ]
  },
  {
   "attachments": {},
   "cell_type": "markdown",
   "metadata": {
    "id": "ZfoHQsgN9D0P"
   },
   "source": [
    "## Problem 3. Build the model\n",
    "\n",
    "Go ahead and build your model!\n",
    "\n",
    "You can choose to use a NN model, or a non-NN model. But you **must** explain why the selected model is suitable for the problem (e.g., considering the size of the dataset, the shape of the input, the 1D nature of the data, etc)\n",
    "\n",
    "**\\<Please explain your model design choices\\>**"
   ]
  },
  {
   "cell_type": "code",
   "execution_count": null,
   "metadata": {
    "id": "02w46FJ4UHC8"
   },
   "outputs": [],
   "source": [
    "# Build a ML model\n",
    "\n",
    "model = <DEFINE YOUR ML MODEL>"
   ]
  },
  {
   "attachments": {},
   "cell_type": "markdown",
   "metadata": {
    "id": "c_5UEm52sa4b"
   },
   "source": [
    "## Problem 4. Train the model\n",
    "\n",
    "Try your best to train and tweak the model, and benchmark the model considering the Machine Learning best practices.\n",
    "\n",
    "Summarize your results, observations, and how you achieved your benchmarks.\n",
    "\n",
    "*Note*: It shouldn't take more than 5 minute to train a model with test accuracy > 85%."
   ]
  },
  {
   "attachments": {},
   "cell_type": "markdown",
   "metadata": {},
   "source": [
    "**\\<Write your model training summary here\\>**"
   ]
  },
  {
   "cell_type": "code",
   "execution_count": null,
   "metadata": {
    "id": "3pOzTkt7tNOd"
   },
   "outputs": [],
   "source": [
    "< YOUR TRAINING CODE >"
   ]
  },
  {
   "cell_type": "code",
   "execution_count": null,
   "metadata": {
    "id": "HwFi_sod_u2K"
   },
   "outputs": [],
   "source": [
    "< YOUR TESTING CODE >"
   ]
  },
  {
   "attachments": {},
   "cell_type": "markdown",
   "metadata": {
    "id": "WWcQQfe3_Thu"
   },
   "source": [
    "## Problem 5. Optimization for Production\n",
    "\n",
    "Now you have a proof-of-concept of power supply stability detection algorithm, we want to bring it to production. You need to optimize your implementation for production. Describe what you think is the most important step and implement it to show the result.\n",
    "\n",
    "Please Note:\n",
    "\n",
    "- You must implement your idea with code in this part\n",
    "- The implementation must be executable and generate results\n"
   ]
  },
  {
   "attachments": {},
   "cell_type": "markdown",
   "metadata": {
    "id": "HVI8dzv3aOH1"
   },
   "source": [
    "**\\<Describe your idea here\\>**"
   ]
  },
  {
   "cell_type": "code",
   "execution_count": null,
   "metadata": {
    "id": "Jvm99e925VoB"
   },
   "outputs": [],
   "source": [
    "<Implement your ideas here>"
   ]
  }
 ],
 "metadata": {
  "accelerator": "GPU",
  "colab": {
   "collapsed_sections": [],
   "provenance": []
  },
  "kernelspec": {
   "display_name": "Python 3",
   "language": "python",
   "name": "python3"
  },
  "language_info": {
   "codemirror_mode": {
    "name": "ipython",
    "version": 3
   },
   "file_extension": ".py",
   "mimetype": "text/x-python",
   "name": "python",
   "nbconvert_exporter": "python",
   "pygments_lexer": "ipython3",
   "version": "3.9.5"
  }
 },
 "nbformat": 4,
 "nbformat_minor": 4
}
